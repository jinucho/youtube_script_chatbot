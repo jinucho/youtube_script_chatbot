{
 "cells": [
  {
   "cell_type": "code",
   "execution_count": 17,
   "metadata": {},
   "outputs": [],
   "source": [
    "from langchain import hub\n",
    "from langchain.text_splitter import RecursiveCharacterTextSplitter\n",
    "from langchain.vectorstores import FAISS\n",
    "from langchain.embeddings import OpenAIEmbeddings\n",
    "from langchain.retrievers import BM25Retriever, EnsembleRetriever\n",
    "from langchain.chat_models import ChatOpenAI\n",
    "from langchain.chains import create_qa_with_sources_chain\n",
    "from langchain.prompts import PromptTemplate\n",
    "from dotenv import load_dotenv\n",
    "import os\n",
    "from pytubefix import YouTube\n",
    "import asyncio\n",
    "import torch\n",
    "from faster_whisper import WhisperModel"
   ]
  },
  {
   "cell_type": "code",
   "execution_count": 18,
   "metadata": {},
   "outputs": [],
   "source": [
    "load_dotenv()  # .env 파일에서 환경 변수 로드\n",
    "\n",
    "# OpenAI API 키 설정\n",
    "os.environ[\"OPENAI_API_KEY\"] = os.getenv(\"OPENAI_API_KEY\")"
   ]
  },
  {
   "cell_type": "code",
   "execution_count": 19,
   "metadata": {},
   "outputs": [],
   "source": [
    "def get_video_info(url):\n",
    "    yt = YouTube(url)\n",
    "    audio_stream = yt.streams.filter(only_audio=True).first()\n",
    "    return {\n",
    "        \"title\": yt.title,\n",
    "        \"audio_url\": audio_stream.url if audio_stream else None\n",
    "    }\n"
   ]
  },
  {
   "cell_type": "code",
   "execution_count": 20,
   "metadata": {},
   "outputs": [
    {
     "name": "stdout",
     "output_type": "stream",
     "text": [
      "Video Title: 가장 쉬운 까르보나라\n"
     ]
    }
   ],
   "source": [
    "video_url = \"https://www.youtube.com/shorts/a--NSC19MXM\"\n",
    "video_info = get_video_info(video_url)\n",
    "print(f\"Video Title: {video_info['title']}\")"
   ]
  },
  {
   "cell_type": "code",
   "execution_count": 21,
   "metadata": {},
   "outputs": [],
   "source": [
    "device = \"cuda\" if torch.cuda.is_available() else \"cpu\"\n",
    "compute_type = \"float16\" if device == \"cuda\" else \"int8\""
   ]
  },
  {
   "cell_type": "code",
   "execution_count": 22,
   "metadata": {},
   "outputs": [],
   "source": [
    "whisper_model = WhisperModel(\"large-v3\", device=device, compute_type=compute_type)\n",
    "\n",
    "def transcribe_audio(audio_url):\n",
    "    segments, info = whisper_model.transcribe(audio_url)\n",
    "    transcript = [{\"text\": segment.text, \"start\": segment.start, \"end\": segment.end} for segment in segments]\n",
    "    return {\"script\": transcript, \"language\": info.language}"
   ]
  },
  {
   "cell_type": "code",
   "execution_count": 23,
   "metadata": {},
   "outputs": [
    {
     "name": "stderr",
     "output_type": "stream",
     "text": [
      "transcribe.py       :324  2024-10-12 11:30:14,287 Processing audio with duration 00:59.118\n",
      "transcribe.py       :425  2024-10-12 11:30:19,512 Detected language 'ko' with probability 1.00\n"
     ]
    },
    {
     "name": "stdout",
     "output_type": "stream",
     "text": [
      "Transcript Language: ko\n",
      "First few lines of transcript: [{'text': ' 한 남자가 베이컨을 가져오는데요', 'start': 0.0, 'end': 10.46}, {'text': ' 갑자기 계란을 가져와 깨부수기 시작합니다', 'start': 10.46, 'end': 12.74}, {'text': ' 노른자를 건져내 따로 담아줍니다', 'start': 12.74, 'end': 14.74}]\n"
     ]
    }
   ],
   "source": [
    "transcript = transcribe_audio(video_info['audio_url'])\n",
    "print(f\"Transcript Language: {transcript['language']}\")\n",
    "print(f\"First few lines of transcript: {transcript['script'][:3]}\")"
   ]
  },
  {
   "cell_type": "code",
   "execution_count": 24,
   "metadata": {},
   "outputs": [
    {
     "name": "stderr",
     "output_type": "stream",
     "text": [
      "/var/folders/c4/0f7nfvt16ln8630csjtkk_1w0000gn/T/ipykernel_41602/2953908480.py:3: LangChainDeprecationWarning: The class `ChatOpenAI` was deprecated in LangChain 0.0.10 and will be removed in 1.0. An updated version of the class exists in the :class:`~langchain-openai package and should be used instead. To use it run `pip install -U :class:`~langchain-openai` and import as `from :class:`~langchain_openai import ChatOpenAI``.\n",
      "  llm = ChatOpenAI(\n"
     ]
    }
   ],
   "source": [
    "text_splitter = RecursiveCharacterTextSplitter(chunk_size=100, chunk_overlap=10)\n",
    "summary_prompt = hub.pull(\"teddynote/summary-stuff-documents-korean\")\n",
    "llm = ChatOpenAI(\n",
    "            model_name=\"gpt-4o-mini\",\n",
    "            temperature=0.7,\n",
    "            streaming=True,\n",
    "        )"
   ]
  },
  {
   "cell_type": "code",
   "execution_count": 25,
   "metadata": {},
   "outputs": [],
   "source": [
    "from langchain.chains.combine_documents import create_stuff_documents_chain"
   ]
  },
  {
   "cell_type": "code",
   "execution_count": 26,
   "metadata": {},
   "outputs": [],
   "source": [
    "from langchain_community.document_loaders import JSONLoader, TextLoader\n",
    "docs = TextLoader(\"script.txt\").load()"
   ]
  },
  {
   "cell_type": "code",
   "execution_count": 27,
   "metadata": {},
   "outputs": [
    {
     "data": {
      "text/plain": [
       "[Document(metadata={'source': 'script.txt'}, page_content=\"In the last chapter, you and I started to step through the internal workings of a transformer.\\nThis is one of the key pieces of technology inside large language models, and a lot of\\nother tools in the modern wave of AI.\\nIt first hit the scene in a now-famous 2017 paper called Attention is All You Need, and\\nin this chapter, you and I will dig into what this attention mechanism is, visualizing how\\nit processes data.\\nAs a quick recap, here's the important context I want you to have in mind.\\nThe goal of the model that you and I are studying is to take in a piece of text and predict\\nwhat word comes next.\\nThe input text is broken up into little pieces that we call tokens, and these are very often\\nwords or pieces of words, but just to make the examples in this video easier for you\\nand me to think about, let's simplify by pretending that tokens are always just words.\\nThe first step in a transformer is to associate each token with a high-dimensional vector,\\nwhat we call its embedding.\\nNow the most important idea I want you to have in mind is how directions in this high-dimensional\\nspace of all possible embeddings can correspond with semantic meaning.\\nIn the last chapter we saw an example for how direction can correspond to gender, in\\nthe sense that adding a certain step in this space can take you from the embedding of a\\nmasculine noun to the embedding of the corresponding feminine noun.\\njust one example, you could imagine how many other directions in this high-dimensional space\\ncould correspond to numerous other aspects of a word's meaning. The aim of a transformer is to\\nprogressively adjust these embeddings so that they don't merely encode an individual word,\\nbut instead they bake in some much, much richer contextual meaning. I should say up front that a\\nlot of people find the attention mechanism, this key piece in a transformer, very confusing, so\\ndon't worry if it takes some time for things to sink in. I think that before we dive into the\\ncomputational details and all the matrix multiplications, it's worth thinking about a\\ncouple examples for the kind of behavior that we want attention to enable. Consider the phrases\\nAmerican true mole, one mole of carbon dioxide, and take a biopsy of the mole. You and I know\\nthat the word mole has different meanings in each one of these, based on the context.\\nBut after the first step of a transformer, the one that breaks up the text and associates each\\ntoken with a vector, the vector that's associated with mole would be the same in all three of these\\ncases, because this initial token embedding is effectively a lookup table with no reference to\\nthe context. It's only in the next step of the transformer that the surrounding embeddings have\\nthe chance to pass information into this one. The picture you might have in mind is that there\\nare multiple distinct directions in this embedding space encoding the multiple distinct meanings of\\nthe word mole, and that a well-trained attention block calculates what you need to add to the\\ngeneric embedding to move it to one of these more specific directions, as a function of the context.\\nTo take another example, consider the embedding of the word tower. This is presumably some very\\ngeneric, non-specific direction in the space, associated with lots of other large, tall nouns.\\nIf this word was immediately preceded by Eiffel, you could imagine wanting the mechanism to update\\nthis vector so that it points in a direction that more specifically encodes the Eiffel Tower,\\nmaybe correlated with vectors associated with Paris and France and things made of steel.\\nIf it was also preceded by the word miniature, then the vector should be updated even further\\nso that it no longer correlates with large tall things. More generally than just refining the\\nmeaning of a word, the attention block allows the model to move information encoded in one\\nembedding to that of another, potentially ones that are quite far away, and potentially\\nwith information that's much richer than just a single word.\\nWhat we saw in the last chapter was how after all of the vectors flow through the network,\\nincluding many different attention blocks, the computation that you perform to produce\\na prediction of the next token is entirely a function of the last vector in the sequence.\\nSo imagine, for example, that the text you input is most of an entire mystery novel,\\nway up to a point near the end which reads, therefore the murderer was, if the model is\\ngoing to accurately predict the next word, that final vector in the sequence which began its life\\nsimply embedding the word was will have to have been updated by all of the attention blocks\\nto represent much much more than any individual word, somehow encoding all of the information\\nfrom the full context window that's relevant to predicting the next word. To step through the\\nthe computations though let's take a much simpler example. Imagine that the input includes the\\nphrase a fluffy blue creature roamed the verdant forest and for the moment suppose that the only\\ntype of update that we care about is having the adjectives adjust the meanings of their\\ncorresponding nouns. What I'm about to describe is what we would call a single head of attention\\nand later we will see how the attention block consists of many different heads run in parallel.\\nAgain, the initial embedding for each word is some high-dimensional vector\\nthat only encodes the meaning of that particular word with no context.\\nActually, that's not quite true. They also encode the position of the word.\\nThere's a lot more to say about the specific way that positions are encoded,\\nbut right now all you need to know is that the entries of this vector are enough to tell you\\nboth what the word is and where it exists in the context. Let's go ahead and denote these\\nembeddings with the letter E, the goal is to have a series of computations produce a\\nnew refined set of embeddings where, for example, those corresponding to the nouns have ingested\\nthe meaning from their corresponding adjectives.\\nAnd playing the deep learning game, we want most of the computations involved to look\\nlike matrix-vector products where the matrices are full of tunable weights, things that the\\nmodel will learn based on data.\\nTo be clear, I'm making up this example of adjectives updating nouns just to illustrate\\nthe type of behavior that you could imagine an intention had doing.\\nAs with so much deep learning, the true behavior is much harder to parse, because it's based\\non tweaking and tuning a huge number of parameters to minimize some cost function.\\nIt's just that as we step through all of the different matrices filled with parameters\\nthat are involved in this process, I think it's really helpful to have an imagined example\\nof something that it could be doing to help keep it all more concrete.\\nFor the first step of this process, you might imagine each noun, like creature, asking the\\nquestion, hey, are there any adjectives sitting in front of me, and for the words fluffy and\\nblue to each be able to answer, yeah, I'm an adjective and I'm in that position.\\nThat question is somehow encoded as yet another vector, another list of numbers, which we\\ncall the query for this word.\\nThis query vector, though, has a much smaller dimension than the embedding vector, say 128.\\nComputing this query looks like taking a certain matrix, which I'll label wq, and multiplying\\nit by the embedding.\\nCompressing things a bit, let's write that query vector as q, and then anytime you see\\nme put a matrix next to an arrow like this one, it's meant to represent that multiplying\\nthis matrix by the vector at the arrow's start gives you the vector at the arrow's end.\\nIn this case, you multiply this matrix by all of the embeddings in the context, producing\\none query vector for each token.\\nThe entries of this matrix are parameters of the model, which means the true behavior\\nis learned from data, and in practice what this matrix does in a particular attention\\nhead is challenging to parse.\\nBut for our sake, imagining an example that we might hope it would learn, we'll suppose\\nthat this query matrix maps the embeddings of nouns to certain directions in this smaller\\nquery space that somehow encodes the notion of looking for adjectives in preceding positions.\\nAs to what it does to other embeddings, who knows, maybe it simultaneously tries to accomplish\\nsome other goal with those, right now we're laser focused on the nouns.\\nAt the same time, associated with this is a second matrix called the key matrix, which\\nyou also multiply by every one of the embeddings.\\nThis produces a second sequence of vectors that we call the keys.\\nConceptually you want to think of the keys as potentially answering the queries.\\nThis key matrix is also full of tunable parameters, and just like the query matrix it maps the\\nembedding vectors to that same smaller dimensional space.\\nYou think of the keys as matching the queries whenever they closely align with each other.\\nIn our example, you would imagine that the key matrix maps the adjectives, like fluffy\\nand blue, to vectors that are closely aligned with the query produced by the word creature.\\nTo measure how well each key matches each query, you compute a dot product between each\\npossible key-query pair.\\nI like to visualize a grid full of a bunch of dots, where the bigger dots correspond\\nthe larger dot products, the places where the keys and queries align. For our adjective-noun example,\\nthat would look a little more like this, where if the keys produced by fluffy and blue really do\\nalign closely with the query produced by creature, then the dot products in these two spots would be\\nsome large positive numbers. In the lingo, machine learning people would say that this means the\\nembeddings of fluffy and blue attend to the embedding of creature. By contrast to the dot\\nproduct between the key for some other word like the and the query for creature would be some small\\nor negative value that reflects that these are unrelated to each other. So we have this grid of\\nvalues that can be any real number from negative infinity to infinity giving us a score for how\\nrelevant each word is to updating the meaning of every other word. The way we're about to use these\\nscores is to take a certain weighted sum along each column weighted by the relevance. So instead\\nInstead of having values range from negative infinity to infinity, what we want is for\\nthe numbers in these columns to be between 0 and 1, and for each column to add up to\\n1, as if they were a probability distribution.\\nIf you're coming in from the last chapter, you know what we need to do then.\\nWe compute a softmax along each one of these columns to normalize the values.\\nIn our picture, after you apply softmax to all of the columns, we'll fill in the grid\\nwith these normalized values.\\nAt this point, you're safe to think about each column as giving weights\\naccording to how relevant the word on the left is to the corresponding value at the top.\\nWe call this grid an attention pattern.\\nNow, if you look at the original Transformer paper,\\nthere's a really compact way that they write this all down.\\nHere, the variables q and k represent the full arrays of query and key vectors respectively,\\nthose little vectors you get by multiplying the embeddings by the query and the key matrices.\\nThis expression up in the numerator is a really compact way to represent the grid of all possible\\ndot products between pairs of keys and queries. A small technical detail that I didn't mention\\nis that for numerical stability it happens to be helpful to divide all of these values by the\\nsquare root of the dimension in that key query space. Then this softmax that's wrapped around\\nthe full expression, is meant to be understood to apply column by column.\\nAs to that V term, we'll talk about it in just a second.\\nBefore that, there's one other technical detail that so far I've skipped.\\nDuring the training process, when you run this model on a given text example, and all\\nof the weights are slightly adjusted and tuned to either reward or punish it based on how\\nhigh a probability it assigns to the true next word in the passage, it turns out to\\nmake the whole training process a lot more efficient if you simultaneously have it predict\\nevery possible next token following each initial sub-sequence of tokens in this passage.\\nFor example, with the phrase that we've been focusing on, it might also be predicting what\\nwords follow creature, and what words follow the.\\nThis is really nice, because it means what would otherwise be a single training example\\neffectively acts as many.\\nFor the purposes of our attention pattern, it means that you never want to allow later\\nwords to influence earlier words, since otherwise they could kind of give away the answer for\\nwhat comes next. What this means is that we want all of these spots here, the ones representing\\nlater tokens influencing earlier ones, to somehow be forced to be zero. The simplest thing you might\\nthink to do is to set them equal to zero, but if you did that the columns wouldn't add up to one\\nanymore, they wouldn't be normalized. So instead a common way to do this is that before applying\\nsoftmax you set all of those entries to be negative infinity. If you do that then after\\nAfter applying softmax, all of those get turned into zero, but the columns stay normalized.\\nThis process is called masking.\\nThere are versions of attention where you don't apply it, but in our GPT example, even\\nthough this is more relevant during the training phase than it would be, say, running it as\\na chatbot or something like that, you do always apply this masking to prevent later tokens\\nfrom influencing earlier ones.\\nAnother fact that's worth reflecting on about this attention pattern is how its size is\\nequal to the square of the context size.\\nSo this is why context size can be a really huge bottleneck for large language models,\\nand scaling it up is non-trivial.\\nAs you might imagine, motivated by a desire for bigger and bigger context windows, recent\\nyears have seen some variations to the attention mechanism aimed at making context more scalable.\\nBut right here, you and I are staying focused on the basics.\\nOkay, great, computing this pattern lets the model deduce which words are relevant to which\\nother words.\\nNow you need to actually update the embeddings, allowing words to pass information to whichever\\nother words they're relevant to.\\nFor example, you want the embedding of fluffy to somehow cause a change to creature that\\nmoves it to a different part of this 12,000 dimensional embedding space that more specifically\\nencodes a fluffy creature.\\nWhat I'm going to do here is first show you the most straightforward way that you could\\ndo this, though there's a slight way that this gets modified in the context of multi-headed\\nattention.\\nThis most straightforward way would be to use a third matrix, what we call the value\\nmatrix, which you multiply by the embedding of that first word, for example fluffy.\\nThe result of this is what you would call a value vector, and this is something that\\nyou add to the embedding of the second word, in this case something you add to the embedding\\nof creature.\\nSo, this value vector lives in the same very high dimensional space as the embeddings.\\nWhen you multiply this value matrix by the embedding of a word, you might think of it\\nas saying if this word is relevant to adjusting the meaning of something else, what exactly should\\nbe added to the embedding of that something else in order to reflect this? Looking back in our\\ndiagram, let's set aside all of the keys and the queries, since after you compute the attention\\npattern you're done with those, then you're going to take this value matrix and multiply it by every\\none of those embeddings to produce a sequence of value vectors. You might think of these value\\nvectors as being kind of associated with the corresponding keys.\\nFor each column in this diagram, you multiply each of the value vectors by the corresponding\\nweight in that column.\\nFor example, here, under the embedding of creature, you would be adding large proportions\\nof the value vectors for fluffy and blue, while all of the other value vectors get zeroed\\nout, or at least nearly zeroed out.\\nAnd then finally, the way to actually update the embedding associated with this column,\\npreviously encoding some context-free meaning of creature, you add together all of these\\nrescaled values in the column, producing a change that you want to add that I'll label\\ndelta E, and then you add that to the original embedding.\\nHopefully what results is a more refined vector encoding the more contextually rich meaning,\\nlike that of a fluffy blue creature.\\nAnd of course you don't just do this to one embedding, you apply the same weighted sum\\nacross all of the columns in this picture, producing a sequence of changes.\\nAdding all of those changes to the corresponding embeddings produces a full sequence of more\\nrefined embeddings popping out of the attention block.\\nZooming out, this whole process is what you would describe as a single head of attention.\\nAs I've described things so far, this process is parameterized by three distinct matrices,\\nall filled with tunable parameters, the key, the query, and the value.\\nI want to take a moment to continue what we started in the last chapter with the scorekeeping\\nwhere we count up the total number of model parameters using the numbers from GPT-3.\\nThese key and query matrices each have 12,288 columns, matching the embedding dimension,\\nand 128 rows, matching the dimension of that smaller key query space.\\nThis gives us an additional 1.5 million or so parameters for each one.\\nIf you look at that value matrix by contrast, the way I've described things so far would\\nsuggest that it's a square matrix that has 12,288 columns and 12,288 rows, since both\\nits inputs and its outputs live in this very large embedding space.\\nIf true, that would mean about 150 million added parameters.\\nAnd to be clear, you could do that, you could devote orders of magnitude more parameters\\nto the value map than to the key and query.\\nBut in practice, it is much more efficient if instead you make it so that the number\\nof parameters devoted to this value map is the same as the number devoted to the key\\nin the query.\\nThis is especially relevant in the setting of running multiple attention heads in parallel.\\nThe way this looks is that the value map is factored as a product of two smaller matrices.\\nConceptually, I would still encourage you to think about the overall linear map, one\\nwith inputs and outputs both in this larger embedding space, for example taking the embedding\\nof blue to this blueness direction that you would add to nouns.\\nIt's just that it's broken up into two separate steps.\\nThe first matrix on the right here has a smaller number of rows, typically the same size as\\nthe key query space.\\nWhat this means is you can think of it as mapping the large embedding vectors down to\\na much smaller space.\\nThis is not the conventional naming, but I'm going to call this the value down matrix.\\nThe second matrix maps from this smaller space back up to the embedding space, producing\\nthe vectors that you use to make the actual updates.\\nI'm going to call this one the value-up matrix, which, again, is not conventional.\\nThe way that you would see this written in most papers looks a little different.\\nI'll talk about it in a minute.\\nIn my opinion, it tends to make things a little more conceptually confusing.\\nTo throw in linear algebra jargon here, what we're basically doing is constraining the\\noverall value map to be a low-rank transformation.\\nTurning back to the parameter count, all four of these matrices have the same size, and\\nThen adding them all up, we get about 6.3 million parameters for one attention head.\\nAs a quick side note, to be a little more accurate, everything described so far is what\\npeople would call a self-attention head, to distinguish it from a variation that comes\\nup in other models that's called cross-attention.\\nThis isn't relevant to our GPT example, but if you're curious, cross-attention involves\\nmodels that process two distinct types of data, like text in one language and text in\\nanother language that's part of an ongoing generation of a translation.\\nOr maybe audio input of speech, and an ongoing transcription.\\nA cross-attention head looks almost identical.\\nThe only difference is that the key and query maps act on different datasets.\\nIn a model doing translation, for example, the keys might come from one language, while\\nthe queries come from another, and the attention pattern could describe which words from one\\nlanguage correspond to which words in another.\\nAnd in this setting there would typically be no masking, since there's not really any\\nnotion of later tokens affecting earlier ones.\\nStaying focused on self-attention though, if you understood everything so far, and if\\nyou were to stop here, you would come away with the essence of what attention really\\nis.\\nAll that's really left to us is to lay out the sense in which you do this many, many\\ndifferent times.\\nIn our central example we focused on adjectives updating nouns, but of course there are lots\\nof different ways that context can influence the meaning of a word.\\nIf the words they crashed the preceded the word car, it has implications for the shape\\nand the structure of that car, and a lot of associations might be less grammatical.\\nIf the word wizard is anywhere in the same passage as Harry, it suggests that this might\\nbe referring to Harry Potter, whereas if instead the words Queen, Sussex, and William were\\nin that passage, then perhaps the embedding of Harry should instead be updated to refer\\nto the prince.\\nFor every different type of contextual updating that you might imagine, the parameters of\\nthese key and query matrices would be different to capture the different attention patterns,\\nand the parameters of our value map would be different based on what should be added to the\\nembeddings. And again, in practice the true behavior of these maps is much more difficult\\nto interpret, where the weights are set to do whatever the model needs them to do to best\\naccomplish its goal of predicting the next token. As I said before, everything we described is a\\nsingle head of attention, and a full attention block inside a transformer consists of what's\\ncalled multi-headed attention where you run a lot of these operations in parallel each with its own\\ndistinct key query and value maps. GPT-3 for example uses 96 attention heads inside each block.\\nConsidering that each one is already a bit confusing it's certainly a lot to hold in your\\nhead. Just to spell it all out very explicitly this means you have 96 distinct key and query\\nmatrices producing 96 distinct attention patterns. Then each head has its own distinct value matrices\\nused to produce 96 sequences of value vectors. These are all added together using the\\ncorresponding attention patterns as weights. What this means is that for each position in the\\ncontext, each token, every one of these heads produces a proposed change to be added to the\\nembedding in that position. So what you do is you sum together all of those proposed changes,\\none for each head, and you add the result to the original embedding of that position.\\nThis entire sum here would be one slice of what's outputted from this multi-headed attention block,\\na single one of those refined embeddings that pops out the other end of it.\\nAgain, this is a lot to think about, so don't worry at all if it takes some time to sink in.\\nThe overall idea is that by running many distinct heads in parallel,\\nyou're giving the model the capacity to learn many distinct ways that context changes meaning.\\nPulling up our running tally for parameter count with 96 heads, each including its own variation\\nof these four matrices, each block of multi-headed attention ends up with around 600 million\\nparameters. There's one added slightly annoying thing that I should really mention for any of you\\nwho go on to read more about transformers. You remember how I said that the value map is factored\\nout into these two distinct matrices, which I labeled as the value down and the value up\\nmatrices. The way that I framed things would suggest that you see this pair of matrices\\ninside each attention head, and you could absolutely implement it this way. That would\\nbe a valid design. But the way that you see this written in papers and the way that it's\\nimplemented in practice looks a little different. All of these value up matrices for each head\\nappear stapled together in one giant matrix that we call the output matrix, associated with\\nthe entire multi-headed attention block. And when you see people refer to the value matrix for a\\ngiven attention head, they're typically only referring to this first step, the one that I\\nwas labeling as the value down projection into the smaller space. For the curious among you,\\nI've left an on-screen note about it. It's one of those details that runs the risk of distracting\\nfrom the main conceptual points, but I do want to call it out just so that you know if you read\\nabout this in other sources. Setting aside all the technical nuances, in the preview from the\\nlast chapter, we saw how data flowing through a transformer doesn't just flow through a single\\nattention block. For one thing, it also goes through these other operations called multi-layer\\nperceptrons. We'll talk more about those in the next chapter. And then it repeatedly goes through\\nmany, many copies of both of these operations. What this means is that after a given word imbibes\\nsome of its context, there are many more chances for this more nuanced embedding to be influenced\\nby its more nuanced surroundings. The further down the network you go, with each embedding\\ntaking in more and more meaning from all the other embeddings, which themselves are getting\\nmore and more nuanced, the hope is that there's the capacity to encode higher level and more\\nabstract ideas about a given input beyond just descriptors and grammatical structure.\\nThings like sentiment and tone and whether it's a poem and what underlying scientific truths are\\nare relevant to the piece, and things like that.\\nTurning back one more time to our scorekeeping, GPT-3 includes 96 distinct layers, so the\\ntotal number of key, query, and value parameters is multiplied by another 96, which brings\\nthe total sum to just under 58 billion distinct parameters devoted to all of the attention\\nheads.\\nThat is a lot, to be sure, but it's only about a third of the 175 billion that are\\nin the network in total.\\nSo even though attention gets all of the attention, the majority of parameters come from the blocks\\nsitting in between these steps.\\nIn the next chapter, you and I will talk more about those other blocks and also a lot more\\nabout the training process.\\nA big part of the story for the success of the attention mechanism is not so much any\\nspecific kind of behavior that it enables, but the fact that it's extremely parallelizable,\\nmeaning that you can run a huge number of computations in a short time using GPUs.\\nthat one of the big lessons about deep learning in the last decade or two has been that scale\\nalone seems to give huge qualitative improvements in model performance. There's a huge advantage to\\nparallelizable architectures that let you do this. If you want to learn more about this stuff, I've\\nleft lots of links in the description. In particular, anything produced by Andre Karpathy or Chris Ola\\ntend to be pure gold. In this video, I wanted to just jump into attention in its current form,\\nbut if you're curious about more of the history for how we got here and how you might reinvent\\nthis idea for yourself, my friend Vivek just put up a couple videos giving a lot more of\\nthat motivation. Also, Britt Cruz from the channel The Art of the Problem\\nhas a really nice video about the history of large language models.\\nyou\\n\")]"
      ]
     },
     "execution_count": 27,
     "metadata": {},
     "output_type": "execute_result"
    }
   ],
   "source": [
    "docs"
   ]
  },
  {
   "cell_type": "code",
   "execution_count": 28,
   "metadata": {},
   "outputs": [],
   "source": [
    "from langchain_core.documents import Document\n",
    "document = [Document(page_content=\"\\n\".join([t[\"text\"] for t in transcript[\"script\"]]))]"
   ]
  },
  {
   "cell_type": "code",
   "execution_count": 29,
   "metadata": {},
   "outputs": [
    {
     "name": "stderr",
     "output_type": "stream",
     "text": [
      "_client.py          :1786 2024-10-12 11:31:22,301 HTTP Request: POST https://api.openai.com/v1/chat/completions \"HTTP/1.1 200 OK\"\n"
     ]
    }
   ],
   "source": [
    "summary_chain = create_stuff_documents_chain(llm,summary_prompt)\n",
    "result = await summary_chain.ainvoke({\"context\": document})"
   ]
  },
  {
   "cell_type": "code",
   "execution_count": 30,
   "metadata": {},
   "outputs": [
    {
     "data": {
      "text/plain": [
       "'- 🥓 한 남자가 베이컨을 가져옴.  \\n- 🥚 계란을 깨고 노른자를 따로 담음.  \\n- 🥄 흰자는 생으로 먹고, 소금을 넣음.  \\n- 🌳 나무젓가락을 사용함.  \\n- 🍝 파스타를 넣고 재료를 섞음.  \\n- 🧂 후추와 그라라빠다노를 뿌림.  \\n- 🔥 베이컨을 구워 계란치즈 소스를 섞음.  \\n- 🍽️ 까르보나라를 예쁘게 담아 완성함.  \\n- 🤤 저도 한번 꼭 먹어보고 싶네요.  '"
      ]
     },
     "execution_count": 30,
     "metadata": {},
     "output_type": "execute_result"
    }
   ],
   "source": [
    "result"
   ]
  },
  {
   "cell_type": "code",
   "execution_count": 31,
   "metadata": {},
   "outputs": [
    {
     "name": "stderr",
     "output_type": "stream",
     "text": [
      "/var/folders/c4/0f7nfvt16ln8630csjtkk_1w0000gn/T/ipykernel_41602/2497576997.py:1: LangChainDeprecationWarning: The class `OpenAIEmbeddings` was deprecated in LangChain 0.0.9 and will be removed in 1.0. An updated version of the class exists in the :class:`~langchain-openai package and should be used instead. To use it run `pip install -U :class:`~langchain-openai` and import as `from :class:`~langchain_openai import OpenAIEmbeddings``.\n",
      "  embeddings = OpenAIEmbeddings()\n"
     ]
    }
   ],
   "source": [
    "embeddings = OpenAIEmbeddings()"
   ]
  },
  {
   "cell_type": "code",
   "execution_count": 32,
   "metadata": {},
   "outputs": [
    {
     "data": {
      "text/plain": [
       "['- 🥓 한 남자가 베이컨을 가져옴.  ',\n",
       " '- 🥚 계란을 깨고 노른자를 따로 담음.  ',\n",
       " '- 🥄 흰자는 생으로 먹고, 소금을 넣음.  ',\n",
       " '- 🌳 나무젓가락을 사용함.  ',\n",
       " '- 🍝 파스타를 넣고 재료를 섞음.  ',\n",
       " '- 🧂 후추와 그라라빠다노를 뿌림.  ',\n",
       " '- 🔥 베이컨을 구워 계란치즈 소스를 섞음.  ',\n",
       " '- 🍽️ 까르보나라를 예쁘게 담아 완성함.  ',\n",
       " '- 🤤 저도 한번 꼭 먹어보고 싶네요.']"
      ]
     },
     "execution_count": 32,
     "metadata": {},
     "output_type": "execute_result"
    }
   ],
   "source": [
    "result.strip().split(\"\\n\")"
   ]
  },
  {
   "cell_type": "code",
   "execution_count": 33,
   "metadata": {},
   "outputs": [
    {
     "ename": "NameError",
     "evalue": "name 'summary' is not defined",
     "output_type": "error",
     "traceback": [
      "\u001b[0;31m---------------------------------------------------------------------------\u001b[0m",
      "\u001b[0;31mNameError\u001b[0m                                 Traceback (most recent call last)",
      "Cell \u001b[0;32mIn[33], line 3\u001b[0m\n\u001b[1;32m      1\u001b[0m documents \u001b[38;5;241m=\u001b[39m text_splitter\u001b[38;5;241m.\u001b[39mcreate_documents([t[\u001b[38;5;124m\"\u001b[39m\u001b[38;5;124mtext\u001b[39m\u001b[38;5;124m\"\u001b[39m] \u001b[38;5;28;01mfor\u001b[39;00m t \u001b[38;5;129;01min\u001b[39;00m transcript[\u001b[38;5;124m\"\u001b[39m\u001b[38;5;124mscript\u001b[39m\u001b[38;5;124m\"\u001b[39m]])\n\u001b[1;32m      2\u001b[0m \u001b[38;5;28;01mfor\u001b[39;00m doc \u001b[38;5;129;01min\u001b[39;00m documents:\n\u001b[0;32m----> 3\u001b[0m     doc\u001b[38;5;241m.\u001b[39mpage_content \u001b[38;5;241m+\u001b[39m\u001b[38;5;241m=\u001b[39m \u001b[38;5;124m\"\u001b[39m\u001b[38;5;130;01m\\n\u001b[39;00m\u001b[38;5;124m\"\u001b[39m \u001b[38;5;241m+\u001b[39m \u001b[43msummary\u001b[49m\u001b[38;5;241m.\u001b[39mstrip()\n",
      "\u001b[0;31mNameError\u001b[0m: name 'summary' is not defined"
     ]
    }
   ],
   "source": [
    "documents = text_splitter.create_documents([t[\"text\"] for t in transcript[\"script\"]])\n",
    "for doc in documents:\n",
    "    doc.page_content += \"\\n\" + summary.strip()"
   ]
  },
  {
   "cell_type": "code",
   "execution_count": 1,
   "metadata": {},
   "outputs": [],
   "source": [
    "from dotenv import load_dotenv\n",
    "import os\n",
    "load_dotenv()\n",
    "api_key = os.getenv(\"RUNPOD_API_KEY\")\n",
    "you_url = \"https://youtube.com/shorts/a--NSC19MXM?si=yiun-HK_7wX1sNvL\""
   ]
  },
  {
   "cell_type": "code",
   "execution_count": 2,
   "metadata": {},
   "outputs": [
    {
     "name": "stdout",
     "output_type": "stream",
     "text": [
      "Response: {'id': 'sync-26147017-ff6e-408d-9622-80c484868c42-e1', 'status': 'IN_QUEUE'}\n"
     ]
    }
   ],
   "source": [
    "import requests\n",
    "import os\n",
    "from dotenv import load_dotenv\n",
    "\n",
    "\n",
    "# RunPod RUNSYNC 엔드포인트 URL\n",
    "url = \"https://api.runpod.ai/v2/uq96boxkzy99ev/runsync\"\n",
    "\n",
    "# FastAPI의 /hello 엔드포인트로 요청하기 위한 데이터 (내부적으로 사용할 파라미터 설정)\n",
    "body = {\"input\":{\n",
    "    \"api\":{\n",
    "        \"method\":\"POST\",\n",
    "        \"endpoint\":\"/ping\",\n",
    "    },\n",
    "    \"payload\":{},\n",
    "}}\n",
    "# 요청 헤더에 API 키 추가\n",
    "headers = {\n",
    "    \"Authorization\": f\"Bearer {api_key}\",\n",
    "    \"Content-Type\": \"application/json\"\n",
    "}\n",
    "\n",
    "# RUNSYNC 요청 보내기\n",
    "response = requests.post(url, json=body, headers=headers)\n",
    "\n",
    "# 응답 확인\n",
    "if response.status_code == 200:\n",
    "    print(\"Response:\", response.json())\n",
    "else:\n",
    "    print(f\"Error {response.status_code}: {response.text}\")\n"
   ]
  },
  {
   "cell_type": "code",
   "execution_count": 7,
   "metadata": {},
   "outputs": [
    {
     "name": "stdout",
     "output_type": "stream",
     "text": [
      "Job Status: IN_QUEUE\n"
     ]
    }
   ],
   "source": [
    "import requests\n",
    "\n",
    "# 작업 ID (작업 완료된 job ID)\n",
    "job_id = response.json()['id']\n",
    "\n",
    "# RunPod API STATUS 엔드포인트 URL\n",
    "status_url = f\"https://api.runpod.ai/v2/wm1xrz07all039/status/{job_id}\"\n",
    "\n",
    "\n",
    "# 요청 헤더에 API 키 추가\n",
    "headers = {\n",
    "    \"Authorization\": f\"Bearer {api_key}\"\n",
    "}\n",
    "\n",
    "# 작업 상태 및 결과 확인 요청 보내기\n",
    "response = requests.get(status_url, headers=headers)\n",
    "\n",
    "# 응답 확인\n",
    "if response.status_code == 200:\n",
    "    job_result = response.json()\n",
    "    if job_result.get(\"status\") == \"COMPLETED\":\n",
    "        print(\"Job Completed! Result:\", job_result.get(\"output\"))\n",
    "    else:\n",
    "        print(f\"Job Status: {job_result.get('status')}\")\n",
    "else:\n",
    "    print(f\"Error {response.status_code}: {response.text}\")\n"
   ]
  },
  {
   "cell_type": "code",
   "execution_count": 5,
   "metadata": {},
   "outputs": [
    {
     "name": "stdout",
     "output_type": "stream",
     "text": [
      "Response: {'delayTime': 6080, 'executionTime': 14798, 'id': 'sync-e0789d83-3bb3-45c9-bc3f-41a576727ba9-e1', 'output': {'language': 'ko', 'script': [{'end': 10.46, 'start': 0, 'text': ' 한 남자가 베이컨을 가져오는데요'}, {'end': 12.74, 'start': 10.46, 'text': ' 갑자기 계란을 가져와 깨부수기 시작합니다'}, {'end': 14.74, 'start': 12.74, 'text': ' 노른자를 건져내 따로 담아줍니다'}, {'end': 16.68, 'start': 14.74, 'text': ' 남은 흰자는 생으로 먹어버리는데요'}, {'end': 19, 'start': 16.68, 'text': ' 냄비를 가져오더니 소금을 넣어주는데요'}, {'end': 21.26, 'start': 19, 'text': ' 소금을 어 너무 좀 짜지 않나? 쉽게 넣어줍니다'}, {'end': 23.28, 'start': 21.26, 'text': ' 환경을 생각하지 않는 마소킴 씨는'}, {'end': 24.88, 'start': 23.28, 'text': ' 나무젓가락을 가져오는데요'}, {'end': 26.86, 'start': 24.88, 'text': ' 파스타를 가져와 다소곳하게 넣...'}, {'end': 27.98, 'start': 26.86, 'text': ' 좀 더...'}, {'end': 28.8, 'start': 27.98, 'text': ' 헤헤헤헤'}, {'end': 29.34, 'start': 28.8, 'text': ' 이 새끼'}, {'end': 30.24, 'start': 29.34, 'text': ' 노른자 2개'}, {'end': 31.34, 'start': 30.24, 'text': ' 후추를 털어놓더니'}, {'end': 33.68, 'start': 31.34, 'text': ' 그라라빠다노를 잔뜩 뿌려넣기 시작합니다'}, {'end': 35.3, 'start': 33.68, 'text': ' 면수와 함께 섞어...'}, {'end': 36.8, 'start': 35.3, 'text': ' 면수와 함께 섞어...'}, {'end': 38.34, 'start': 36.8, 'text': ' 면수와 함께 섞어주고는'}, {'end': 39.1, 'start': 38.34, 'text': ' 올리브유를 넣는...'}, {'end': 39.88, 'start': 39.1, 'text': ' 너무 많이 너무 많이'}, {'end': 42, 'start': 39.88, 'text': ' 야들야들하게 베이컨을 구워주는데요'}, {'end': 44.04, 'start': 42, 'text': ' 계란치즈 소스를 섞어넣습니다'}, {'end': 45.24, 'start': 44.04, 'text': ' 면을 잘 섞어주고는'}, {'end': 46.84, 'start': 45.24, 'text': ' 완태까레를 하기 시작하는데요'}, {'end': 49.24, 'start': 46.84, 'text': ' 이제 소스와 면을 잘 섞어서 농도를 잡고'}, {'end': 50.54, 'start': 49.24, 'text': ' 그릇에 예쁘게 담고'}, {'end': 52.4, 'start': 50.54, 'text': ' 맛있는 까르보나라 완성입니다'}, {'end': 54, 'start': 52.4, 'text': ' 저도 한번 꼭 먹어보고 싶네요'}, {'end': 56.84, 'start': 55.04, 'text': ' 저도 한번 꼭 먹어보고 싶네요'}, {'end': 59.1, 'start': 57.94, 'text': ' 저도 한번 꼭 먹어보...'}], 'summary_result': '- 🥓 한 남자가 베이컨을 가져온다.\\n- 🥚 갑자기 계란을 깨부수고 노른자를 따로 담는다.\\n- 🥄 남은 흰자는 생으로 먹고, 소금을 넣기 시작한다.\\n- 🌳 마소킴 씨는 나무젓가락을 사용한다.\\n- 🍝 파스타를 넣고 후추와 그라라빠다노를 뿌린다.\\n- 💧 면수와 함께 잘 섞고 올리브유를 추가한다.\\n- 🔥 베이컨을 야들야들하게 구운 후 계란치즈 소스를 섞는다.\\n- 🍽️ 소스와 면을 잘 섞어 농도를 맞춰 그릇에 담는다.\\n- 😋 맛있는 까르보나라가 완성된다.'}, 'status': 'COMPLETED', 'workerId': 'cit4dyf8wa6isb'}\n"
     ]
    }
   ],
   "source": [
    "import requests\n",
    "import os\n",
    "from dotenv import load_dotenv\n",
    "\n",
    "# Load environment variables\n",
    "load_dotenv()\n",
    "api_key = os.getenv(\"RUNPOD_API_KEY\")\n",
    "endpoint_id = os.getenv(\"RUNPOD_ENDPOINT_ID\")\n",
    "\n",
    "# RunPod RUNSYNC 엔드포인트 URL\n",
    "url = f\"https://api.runpod.ai/v2/{endpoint_id}/runsync\"\n",
    "you_url = \"https://youtube.com/shorts/a--NSC19MXM?si=cMQBosX_DHsLH7Pd\"\n",
    "\n",
    "# FastAPI의 /hello 엔드포인트로 요청하기 위한 데이터\n",
    "payload = {\n",
    "    \"input\": {\n",
    "        \"endpoint\": \"/get_script_summary\",\n",
    "        \"method\": \"GET\",\n",
    "        \"headers\": {\"x-session-id\": \"1234asdf\"},\n",
    "        \"params\": {\"url\": you_url},\n",
    "    }\n",
    "}\n",
    "\n",
    "# 요청 헤더에 API 키 추가\n",
    "headers = {\n",
    "    \"Authorization\": f\"Bearer {api_key}\",\n",
    "    \"Content-Type\": \"application/json\"\n",
    "}\n",
    "\n",
    "# RUNSYNC 요청 보내기\n",
    "response = requests.post(url, json=payload, headers=headers)\n",
    "\n",
    "# 응답 확인\n",
    "if response.status_code == 200:\n",
    "    print(\"Response:\", response.json())\n",
    "else:\n",
    "    print(f\"Error {response.status_code}: {response.text}\")\n"
   ]
  },
  {
   "cell_type": "code",
   "execution_count": 3,
   "metadata": {},
   "outputs": [],
   "source": [
    "Received_event = {'delayTime': 6062, 'id': 'sync-debf511b-458b-4b5d-a24c-8bd09e70744b-e1', 'input': {'endpoint': '/get_script_summary', 'headers': {'x-session-id': '1234asdf'}, 'method': 'GET', 'params': {'url': 'https://api.runpod.ai/v2/ja1tium2uey29v/runsync'}}, 'status': 'IN_QUEUE'}"
   ]
  },
  {
   "cell_type": "code",
   "execution_count": 4,
   "metadata": {},
   "outputs": [
    {
     "data": {
      "text/plain": [
       "{'endpoint': '/get_script_summary',\n",
       " 'headers': {'x-session-id': '1234asdf'},\n",
       " 'method': 'GET',\n",
       " 'params': {'url': 'https://api.runpod.ai/v2/ja1tium2uey29v/runsync'}}"
      ]
     },
     "execution_count": 4,
     "metadata": {},
     "output_type": "execute_result"
    }
   ],
   "source": [
    "Received_event.get(\"input\")"
   ]
  },
  {
   "cell_type": "code",
   "execution_count": 10,
   "metadata": {},
   "outputs": [
    {
     "data": {
      "text/plain": [
       "'- 🥓 한 남자가 베이컨을 가져온다.  \\n- 🥚 갑자기 계란을 깨서 노른자를 따로 담는다.  \\n- 🥄 남은 흰자는 생으로 먹는다.  \\n- 🧂 소금을 넣지만 짜지 않을까 걱정한다.  \\n- 🌳 환경을 생각하지 않고 나무젓가락을 사용한다.  \\n- 🍝 파스타를 조심스럽게 넣는다.  \\n- 🌶️ 후추와 그라라빠다노를 넣기 시작한다.  \\n- 💧 면수와 함께 잘 섞는다.  \\n- 🫒 올리브유를 너무 많이 넣는다.  \\n- 🔥 야들야들하게 베이컨을 구운 후 계란치즈 소스를 섞는다.  \\n- 🍽️ 면과 소스를 잘 섞어 그릇에 담아 맛있는 까르보나라를 완성한다.  \\n- 😋 저도 한번 꼭 먹어보고 싶다.'"
      ]
     },
     "execution_count": 10,
     "metadata": {},
     "output_type": "execute_result"
    }
   ],
   "source": [
    "response.json().get('output').get(\"summary_result\")"
   ]
  },
  {
   "cell_type": "code",
   "execution_count": 18,
   "metadata": {},
   "outputs": [],
   "source": [
    "import json\n",
    "RUNPOD_API_URL = f\"https://api.runpod.ai/v2/k4x3rsxvzzpwjl/runsync\"\n",
    "headers = {\n",
    "    \"Authorization\": f\"Bearer {api_key}\",\n",
    "    \"Content-Type\": \"application/json\",\n",
    "}\n",
    "payload = {\n",
    "    \"input\": {\n",
    "        \"endpoint\": \"rag_stream_chat\",\n",
    "        \"method\": \"POST\",\n",
    "        \"headers\": {\"x-session-id\": \"6774b417-534b-4b4e-9b4b-e425b1cea2f1\"},\n",
    "        \"params\": {\"prompt\": \"주게가 뭔가요?\"},\n",
    "    }\n",
    "}\n",
    "\n",
    "response = requests.post(\n",
    "    RUNPOD_API_URL, headers=headers, json=payload, stream=True\n",
    ")\n",
    "\n",
    "for chunk in response.iter_content(chunk_size=None):\n",
    "    if chunk:\n",
    "        chunk_data = chunk.decode(\"utf-8\").strip()\n",
    "        if chunk_data.startswith(\"data: \"):\n",
    "            chunk_content = chunk_data[6:]\n",
    "            if chunk_content == \"[DONE]\":\n",
    "                break\n",
    "            try:\n",
    "                content = json.loads(chunk_content)\n",
    "                print(\"Stream content:\", content)\n",
    "            except json.JSONDecodeError:\n",
    "                print(\"Invalid JSON:\", chunk_content)\n"
   ]
  },
  {
   "cell_type": "code",
   "execution_count": 1,
   "metadata": {},
   "outputs": [],
   "source": [
    "Received_event = {'delayTime': 6318, 'id': 'sync-fd743056-ab0e-4911-9f16-123e76f86b9c-e1', 'input': {'endpoint': 'get_title_hash', 'method': 'GET', 'params': {'url': 'https://youtube.com/shorts/a--NSC19MXM?si=yiun-HK_7wX1sNvL'}}, 'status': 'IN_QUEUE'}"
   ]
  },
  {
   "cell_type": "code",
   "execution_count": 3,
   "metadata": {},
   "outputs": [
    {
     "data": {
      "text/plain": [
       "{'endpoint': 'get_title_hash',\n",
       " 'method': 'GET',\n",
       " 'params': {'url': 'https://youtube.com/shorts/a--NSC19MXM?si=yiun-HK_7wX1sNvL'}}"
      ]
     },
     "execution_count": 3,
     "metadata": {},
     "output_type": "execute_result"
    }
   ],
   "source": [
    "Received_event.get((\"input\"))"
   ]
  },
  {
   "cell_type": "code",
   "execution_count": 2,
   "metadata": {},
   "outputs": [],
   "source": [
    "Sending_request={'scope': {'type': 'http', 'method': 'POST', 'path': '/rag_stream_chat', 'headers': [(b'x-session-id', b'd65ab8e2-4103-4c30-a8e4-01e98577691b')]}, '_receive': None, '_send': \"<function empty_send at 0x720467a1cca0>\", '_stream_consumed': False, '_is_disconnected': False, '_form': None, '_json': {'prompt': '주제가뭐가요'}}\n",
    "\n",
    "Recieved_request={'scope': {'type': 'http', 'method': 'POST', 'path': '/rag_stream_chat', 'headers': [(b'x-session-id', b'd65ab8e2-4103-4c30-a8e4-01e98577691b')]}, '_receive': None, '_send': \"<function empty_send at 0x720467a1cca0>\", '_stream_consumed': False, '_is_disconnected': False, '_form': None, '_json': {'prompt': '주제가뭐가요'}}"
   ]
  },
  {
   "cell_type": "code",
   "execution_count": 3,
   "metadata": {},
   "outputs": [
    {
     "data": {
      "text/plain": [
       "dict_keys(['scope', '_receive', '_send', '_stream_consumed', '_is_disconnected', '_form', '_json'])"
      ]
     },
     "execution_count": 3,
     "metadata": {},
     "output_type": "execute_result"
    }
   ],
   "source": [
    "Sending_request.keys()"
   ]
  },
  {
   "cell_type": "code",
   "execution_count": 4,
   "metadata": {},
   "outputs": [],
   "source": [
    "temp = {\"a\":\"b\"}"
   ]
  },
  {
   "cell_type": "code",
   "execution_count": 5,
   "metadata": {},
   "outputs": [],
   "source": [
    "temp.get(\"c\")"
   ]
  },
  {
   "cell_type": "code",
   "execution_count": null,
   "metadata": {},
   "outputs": [],
   "source": []
  }
 ],
 "metadata": {
  "kernelspec": {
   "display_name": "youtube",
   "language": "python",
   "name": "python3"
  },
  "language_info": {
   "codemirror_mode": {
    "name": "ipython",
    "version": 3
   },
   "file_extension": ".py",
   "mimetype": "text/x-python",
   "name": "python",
   "nbconvert_exporter": "python",
   "pygments_lexer": "ipython3",
   "version": "3.10.13"
  }
 },
 "nbformat": 4,
 "nbformat_minor": 2
}
